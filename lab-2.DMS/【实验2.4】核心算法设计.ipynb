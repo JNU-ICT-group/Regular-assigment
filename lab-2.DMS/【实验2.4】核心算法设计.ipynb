{
 "cells": [
  {
   "cell_type": "markdown",
   "metadata": {},
   "source": [
    "ver: 20211014.1800"
   ]
  },
  {
   "cell_type": "code",
   "execution_count": 1,
   "metadata": {
    "tags": []
   },
   "outputs": [],
   "source": [
    "import numpy as np\n",
    "import matplotlib.pyplot as plt"
   ]
  },
  {
   "cell_type": "markdown",
   "metadata": {},
   "source": [
    "# 实验2.4 离散无记忆信源"
   ]
  },
  {
   "cell_type": "markdown",
   "metadata": {},
   "source": [
    "## 实验目标\n",
    "\n",
    "编写一个离散无记忆信源的程序，随机生成任意指定大小的文件，且符合任意指定的字节符号概率分布。"
   ]
  },
  {
   "cell_type": "markdown",
   "metadata": {},
   "source": [
    "## 理论分析\n",
    "\n",
    "- 难点：多数计算机语言中，一般只有用来生成常见概率分布（如均匀分布、高斯分布、泊松分布等）随机数的工具，而没有自带生成任意给定概率分布随机数的工具。\n",
    "- 方法：把均匀分布概率产生出来的随机数，“转换”成符合给定概率分布的数值。\n",
    "\n",
    "### 思路：蒙特卡罗法\n",
    "- 设离散无记忆信源为$X$，它每次发出一个字节符号$x$，$q=256$是字节符号的可取值个数, $P(i)$是给定需要满足的字节符号 $x=i$ 的概率。\n",
    "- 将区间 $[0,1]$ 划分成 $q$ 个子区间，每个消息符号取值 $i$ 对应一个子区间，子区间的大小与概率 $P(i)$ 大小成正比。\n",
    "- 生成 $[0,1]$ 之间均匀分布的随机数 $f$，它落入的子区间所对应的符号 $i$，就是被“转换”满足给定概率分布的输出符号 $x$。"
   ]
  },
  {
   "cell_type": "markdown",
   "metadata": {},
   "source": [
    "### 问：有没有合适的数学工具，能够简单有效地实现以上思路中的区间的分割呢？"
   ]
  },
  {
   "cell_type": "markdown",
   "metadata": {},
   "source": [
    "答：有，$P(i)$ 的累积概率分布函数 $ F(i) = CDF(P(i)) $。我们通过一个简单的例子来观察 $CDF$ 的特性。"
   ]
  },
  {
   "cell_type": "code",
   "execution_count": 2,
   "metadata": {},
   "outputs": [
    {
     "name": "stdout",
     "output_type": "stream",
     "text": [
      "P = [0.1 0.3 0.  0.2 0.4]\n",
      "F = [0.1 0.4 0.4 0.6 1. ]\n"
     ]
    },
    {
     "data": {
      "text/plain": [
       "<matplotlib.legend.Legend at 0x1dbe792acd0>"
      ]
     },
     "execution_count": 2,
     "metadata": {},
     "output_type": "execute_result"
    },
    {
     "data": {
      "image/png": "[encoded data removed]",
      "text/plain": [
       "<Figure size 432x288 with 1 Axes>"
      ]
     },
     "metadata": {
      "needs_background": "light"
     },
     "output_type": "display_data"
    }
   ],
   "source": [
    "# Make up a probability distribution.\n",
    "# Notice that we specifically set P[2]=0 to test such special cases.\n",
    "P = np.array([0.1, 0.3, 0, 0.2, 0.4])\n",
    "i = np.arange(P.size)\n",
    "\n",
    "# CDF of P is simple to do with numpy.\n",
    "F = P.cumsum()\n",
    "\n",
    "print(\"P =\", P)\n",
    "print(\"F =\", F)\n",
    "\n",
    "fig, ax = plt.subplots()\n",
    "ax.stem(i, P, label='P(i)')\n",
    "ax.step(i, F, 'g', where='post', label='F(i)')\n",
    "ax.set_xlabel('i')\n",
    "ax.legend()"
   ]
  },
  {
   "cell_type": "markdown",
   "metadata": {},
   "source": [
    "## 算法设计\n",
    "\n",
    "1. 计算给定概率分布 $P(i)$ 的累积概率分布 $F(i)$\n",
    "   $$ F(i) = CDF(P(i)) = \\sum_{k=0}^{i} P(i), \\quad (i = 1,2,...,q) $$\n",
    "2. 生成 $[0, 1]$ 之间均匀分布的随机实数 $f$\n",
    "3. 输出符合以下条件的消息符号 $x$, 其中 $i$ 是整数\n",
    "   $$ \n",
    "   x = \n",
    "   \\begin{cases}\n",
    "      0, \\quad f \\leqslant F(0) \\\\\n",
    "      i, \\quad F(i-1) < f \\leqslant F(i), \\quad (0 < i \\leqslant q)  \n",
    "   \\end{cases}\n",
    "   $$\n",
    "4. 循环步骤 2-3，直至输出符号数达到要求\n"
   ]
  },
  {
   "cell_type": "markdown",
   "metadata": {},
   "source": [
    "## 算法实现"
   ]
  },
  {
   "cell_type": "code",
   "execution_count": 3,
   "metadata": {
    "tags": []
   },
   "outputs": [
    {
     "name": "stdout",
     "output_type": "stream",
     "text": [
      "symbol_prob = [0.1 0.3 0.  0.2 0.4 0.  0.  0.  0.  0.  0.  0.  0.  0.  0.  0.  0.  0.\n",
      " 0.  0.  0.  0.  0.  0.  0.  0.  0.  0.  0.  0.  0.  0.  0.  0.  0.  0.\n",
      " 0.  0.  0.  0.  0.  0.  0.  0.  0.  0.  0.  0.  0.  0.  0.  0.  0.  0.\n",
      " 0.  0.  0.  0.  0.  0.  0.  0.  0.  0.  0.  0.  0.  0.  0.  0.  0.  0.\n",
      " 0.  0.  0.  0.  0.  0.  0.  0.  0.  0.  0.  0.  0.  0.  0.  0.  0.  0.\n",
      " 0.  0.  0.  0.  0.  0.  0.  0.  0.  0.  0.  0.  0.  0.  0.  0.  0.  0.\n",
      " 0.  0.  0.  0.  0.  0.  0.  0.  0.  0.  0.  0.  0.  0.  0.  0.  0.  0.\n",
      " 0.  0.  0.  0.  0.  0.  0.  0.  0.  0.  0.  0.  0.  0.  0.  0.  0.  0.\n",
      " 0.  0.  0.  0.  0.  0.  0.  0.  0.  0.  0.  0.  0.  0.  0.  0.  0.  0.\n",
      " 0.  0.  0.  0.  0.  0.  0.  0.  0.  0.  0.  0.  0.  0.  0.  0.  0.  0.\n",
      " 0.  0.  0.  0.  0.  0.  0.  0.  0.  0.  0.  0.  0.  0.  0.  0.  0.  0.\n",
      " 0.  0.  0.  0.  0.  0.  0.  0.  0.  0.  0.  0.  0.  0.  0.  0.  0.  0.\n",
      " 0.  0.  0.  0.  0.  0.  0.  0.  0.  0.  0.  0.  0.  0.  0.  0.  0.  0.\n",
      " 0.  0.  0.  0.  0.  0.  0.  0.  0.  0.  0.  0.  0.  0.  0.  0.  0.  0.\n",
      " 0.  0.  0.  0. ]\n",
      "symbol_cumsum = [0.1 0.4 0.4 0.6 1.  1.  1.  1.  1.  1.  1.  1.  1.  1.  1.  1.  1.  1.\n",
      " 1.  1.  1.  1.  1.  1.  1.  1.  1.  1.  1.  1.  1.  1.  1.  1.  1.  1.\n",
      " 1.  1.  1.  1.  1.  1.  1.  1.  1.  1.  1.  1.  1.  1.  1.  1.  1.  1.\n",
      " 1.  1.  1.  1.  1.  1.  1.  1.  1.  1.  1.  1.  1.  1.  1.  1.  1.  1.\n",
      " 1.  1.  1.  1.  1.  1.  1.  1.  1.  1.  1.  1.  1.  1.  1.  1.  1.  1.\n",
      " 1.  1.  1.  1.  1.  1.  1.  1.  1.  1.  1.  1.  1.  1.  1.  1.  1.  1.\n",
      " 1.  1.  1.  1.  1.  1.  1.  1.  1.  1.  1.  1.  1.  1.  1.  1.  1.  1.\n",
      " 1.  1.  1.  1.  1.  1.  1.  1.  1.  1.  1.  1.  1.  1.  1.  1.  1.  1.\n",
      " 1.  1.  1.  1.  1.  1.  1.  1.  1.  1.  1.  1.  1.  1.  1.  1.  1.  1.\n",
      " 1.  1.  1.  1.  1.  1.  1.  1.  1.  1.  1.  1.  1.  1.  1.  1.  1.  1.\n",
      " 1.  1.  1.  1.  1.  1.  1.  1.  1.  1.  1.  1.  1.  1.  1.  1.  1.  1.\n",
      " 1.  1.  1.  1.  1.  1.  1.  1.  1.  1.  1.  1.  1.  1.  1.  1.  1.  1.\n",
      " 1.  1.  1.  1.  1.  1.  1.  1.  1.  1.  1.  1.  1.  1.  1.  1.  1.  1.\n",
      " 1.  1.  1.  1.  1.  1.  1.  1.  1.  1.  1.  1.  1.  1.  1.  1.  1.  1.\n",
      " 1.  1.  1.  1. ]\n"
     ]
    }
   ],
   "source": [
    "q = 256\n",
    "symbol_prob = np.zeros(q)\n",
    "symbol_prob[0:5] = [0.1, 0.3, 0, 0.2, 0.4]\n",
    "\n",
    "# Step 1\n",
    "symbol_cumsum = symbol_prob.cumsum()\n",
    "\n",
    "print(\"symbol_prob =\", symbol_prob)\n",
    "print(\"symbol_cumsum =\", symbol_cumsum)"
   ]
  },
  {
   "cell_type": "code",
   "execution_count": 4,
   "metadata": {
    "tags": []
   },
   "outputs": [
    {
     "name": "stdout",
     "output_type": "stream",
     "text": [
      "msg[0:100] = [0 3 4 1 4 0 4 4 4 4 4 3 4 3 4 4 4 1 0 3 4 4 4 3 4 0 1 3 1 3 0 4 1 1 1 1 1\n",
      " 4 1 1 3 1 4 3 4 1 4 3 1 1 1 1 4 3 0 4 4 1 1 1 0 0 4 1 1 4 1 4 4 3 4 1 4 4\n",
      " 4 4 4 1 3 3 4 3 1 4 1 4 4 4 4 3 1 1 4 4 4 0 3 3 1 4]\n"
     ]
    }
   ],
   "source": [
    "msg_len = 102400\n",
    "\n",
    "# Step 2\n",
    "symbol_random = np.random.uniform(size=msg_len)\n",
    "\n",
    "# Step 3\n",
    "# Q: Explain why the following line can accomplish this step.\n",
    "msg = np.searchsorted(symbol_cumsum, symbol_random)\n",
    "\n",
    "print(\"msg[0:100] =\", msg[0:100])"
   ]
  },
  {
   "cell_type": "markdown",
   "metadata": {},
   "source": [
    "## 算法测试"
   ]
  },
  {
   "cell_type": "markdown",
   "metadata": {},
   "source": [
    "为了测试算法的设计与实现，我们需要统计上面方法所生成出来的序列的概率分布是否符合要求。\n",
    "\n",
    "我们不另外编写统计概率的函数，而是重用实验《计算文件的信息量》中已经过验证的、高效的概率统计函数。"
   ]
  },
  {
   "cell_type": "code",
   "execution_count": 5,
   "metadata": {},
   "outputs": [],
   "source": [
    "def probability(x):\n",
    "    (hist, bin_edges) = np.histogram(x, bins=range(257))\n",
    "    P = hist/x.size\n",
    "    return P"
   ]
  },
  {
   "cell_type": "code",
   "execution_count": 6,
   "metadata": {
    "tags": []
   },
   "outputs": [
    {
     "name": "stdout",
     "output_type": "stream",
     "text": [
      "[0.09980469 0.30066406 0.         0.19957031 0.39996094 0.\n",
      " 0.         0.         0.         0.         0.         0.\n",
      " 0.         0.         0.         0.         0.         0.\n",
      " 0.         0.         0.         0.         0.         0.\n",
      " 0.         0.         0.         0.         0.         0.\n",
      " 0.         0.         0.         0.         0.         0.\n",
      " 0.         0.         0.         0.         0.         0.\n",
      " 0.         0.         0.         0.         0.         0.\n",
      " 0.         0.         0.         0.         0.         0.\n",
      " 0.         0.         0.         0.         0.         0.\n",
      " 0.         0.         0.         0.         0.         0.\n",
      " 0.         0.         0.         0.         0.         0.\n",
      " 0.         0.         0.         0.         0.         0.\n",
      " 0.         0.         0.         0.         0.         0.\n",
      " 0.         0.         0.         0.         0.         0.\n",
      " 0.         0.         0.         0.         0.         0.\n",
      " 0.         0.         0.         0.         0.         0.\n",
      " 0.         0.         0.         0.         0.         0.\n",
      " 0.         0.         0.         0.         0.         0.\n",
      " 0.         0.         0.         0.         0.         0.\n",
      " 0.         0.         0.         0.         0.         0.\n",
      " 0.         0.         0.         0.         0.         0.\n",
      " 0.         0.         0.         0.         0.         0.\n",
      " 0.         0.         0.         0.         0.         0.\n",
      " 0.         0.         0.         0.         0.         0.\n",
      " 0.         0.         0.         0.         0.         0.\n",
      " 0.         0.         0.         0.         0.         0.\n",
      " 0.         0.         0.         0.         0.         0.\n",
      " 0.         0.         0.         0.         0.         0.\n",
      " 0.         0.         0.         0.         0.         0.\n",
      " 0.         0.         0.         0.         0.         0.\n",
      " 0.         0.         0.         0.         0.         0.\n",
      " 0.         0.         0.         0.         0.         0.\n",
      " 0.         0.         0.         0.         0.         0.\n",
      " 0.         0.         0.         0.         0.         0.\n",
      " 0.         0.         0.         0.         0.         0.\n",
      " 0.         0.         0.         0.         0.         0.\n",
      " 0.         0.         0.         0.         0.         0.\n",
      " 0.         0.         0.         0.         0.         0.\n",
      " 0.         0.         0.         0.         0.         0.\n",
      " 0.         0.         0.         0.         0.         0.\n",
      " 0.         0.         0.         0.         0.         0.\n",
      " 0.         0.         0.         0.        ]\n"
     ]
    }
   ],
   "source": [
    "print(probability(msg))"
   ]
  },
  {
   "cell_type": "markdown",
   "metadata": {},
   "source": [
    "上面的概率统计结果与我们设定的比较接近，初步验证了算法的思路和实现是正确的，但仍然需要更多的测试来确认。\n",
    "\n",
    "我们把上面分散的代码集合成一个方便反复测试调用的函数。"
   ]
  },
  {
   "cell_type": "code",
   "execution_count": 7,
   "metadata": {
    "tags": []
   },
   "outputs": [],
   "source": [
    "def quick_test(symbol_prob):\n",
    "    symbol_cumsum = symbol_prob.cumsum()\n",
    "    print(\"symbol_prob[0:50] =\", symbol_prob[0:50])\n",
    "\n",
    "    msg_len = 1024000\n",
    "    symbol_random = np.random.uniform(size=msg_len)\n",
    "    msg = np.searchsorted(symbol_cumsum, symbol_random)\n",
    "    print(\"msg[0:100] =\", msg[0:100])\n",
    "\n",
    "    P = probability(msg)\n",
    "    print(\"P relative error =\", abs(P - symbol_prob)/symbol_prob)"
   ]
  },
  {
   "cell_type": "markdown",
   "metadata": {},
   "source": [
    "除了整合代码，我们还对结果的显示进行了一点优化：显示概率分布的相对误差，而不是概率本身。\n",
    "\n",
    "以防代码整合和优化时出错，我们重复上面的实验来验证该测试函数的正确性。"
   ]
  },
  {
   "cell_type": "code",
   "execution_count": 8,
   "metadata": {
    "tags": []
   },
   "outputs": [
    {
     "name": "stdout",
     "output_type": "stream",
     "text": [
      "symbol_prob[0:50] = [0.1 0.3 0.  0.2 0.4 0.  0.  0.  0.  0.  0.  0.  0.  0.  0.  0.  0.  0.\n",
      " 0.  0.  0.  0.  0.  0.  0.  0.  0.  0.  0.  0.  0.  0.  0.  0.  0.  0.\n",
      " 0.  0.  0.  0.  0.  0.  0.  0.  0.  0.  0.  0.  0.  0. ]\n",
      "msg[0:100] = [4 1 1 1 3 1 1 4 0 1 4 4 1 1 1 4 4 4 1 1 0 1 4 1 3 1 4 3 1 1 3 4 3 4 4 4 4\n",
      " 3 4 4 3 4 3 4 3 4 4 1 1 3 4 1 1 4 3 4 1 4 4 3 4 4 4 4 1 0 1 1 4 4 3 1 4 1\n",
      " 0 4 4 3 1 1 1 1 1 3 4 1 4 3 4 4 3 3 1 4 4 1 1 1 1 1]\n",
      "P relative error = [0.00424805 0.00168945        nan 0.00533203 0.00033691        nan\n",
      "        nan        nan        nan        nan        nan        nan\n",
      "        nan        nan        nan        nan        nan        nan\n",
      "        nan        nan        nan        nan        nan        nan\n",
      "        nan        nan        nan        nan        nan        nan\n",
      "        nan        nan        nan        nan        nan        nan\n",
      "        nan        nan        nan        nan        nan        nan\n",
      "        nan        nan        nan        nan        nan        nan\n",
      "        nan        nan        nan        nan        nan        nan\n",
      "        nan        nan        nan        nan        nan        nan\n",
      "        nan        nan        nan        nan        nan        nan\n",
      "        nan        nan        nan        nan        nan        nan\n",
      "        nan        nan        nan        nan        nan        nan\n",
      "        nan        nan        nan        nan        nan        nan\n",
      "        nan        nan        nan        nan        nan        nan\n",
      "        nan        nan        nan        nan        nan        nan\n",
      "        nan        nan        nan        nan        nan        nan\n",
      "        nan        nan        nan        nan        nan        nan\n",
      "        nan        nan        nan        nan        nan        nan\n",
      "        nan        nan        nan        nan        nan        nan\n",
      "        nan        nan        nan        nan        nan        nan\n",
      "        nan        nan        nan        nan        nan        nan\n",
      "        nan        nan        nan        nan        nan        nan\n",
      "        nan        nan        nan        nan        nan        nan\n",
      "        nan        nan        nan        nan        nan        nan\n",
      "        nan        nan        nan        nan        nan        nan\n",
      "        nan        nan        nan        nan        nan        nan\n",
      "        nan        nan        nan        nan        nan        nan\n",
      "        nan        nan        nan        nan        nan        nan\n",
      "        nan        nan        nan        nan        nan        nan\n",
      "        nan        nan        nan        nan        nan        nan\n",
      "        nan        nan        nan        nan        nan        nan\n",
      "        nan        nan        nan        nan        nan        nan\n",
      "        nan        nan        nan        nan        nan        nan\n",
      "        nan        nan        nan        nan        nan        nan\n",
      "        nan        nan        nan        nan        nan        nan\n",
      "        nan        nan        nan        nan        nan        nan\n",
      "        nan        nan        nan        nan        nan        nan\n",
      "        nan        nan        nan        nan        nan        nan\n",
      "        nan        nan        nan        nan        nan        nan\n",
      "        nan        nan        nan        nan        nan        nan\n",
      "        nan        nan        nan        nan        nan        nan\n",
      "        nan        nan        nan        nan]\n"
     ]
    },
    {
     "name": "stderr",
     "output_type": "stream",
     "text": [
      "T:\\Temp/ipykernel_13004/2337140068.py:11: RuntimeWarning: invalid value encountered in true_divide\n",
      "  print(\"P relative error =\", abs(P - symbol_prob)/symbol_prob)\n"
     ]
    }
   ],
   "source": [
    "q = 256\n",
    "symbol_prob = np.zeros(q)\n",
    "symbol_prob[0:5] = [0.1, 0.3, 0, 0.2, 0.4]\n",
    "quick_test(symbol_prob)"
   ]
  },
  {
   "cell_type": "markdown",
   "metadata": {},
   "source": [
    "重复测试通过。我们下面进行一组新的测试：概率分布设定为均匀分布。"
   ]
  },
  {
   "cell_type": "code",
   "execution_count": 9,
   "metadata": {
    "tags": []
   },
   "outputs": [
    {
     "name": "stdout",
     "output_type": "stream",
     "text": [
      "symbol_prob[0:50] = [0.00390625 0.00390625 0.00390625 0.00390625 0.00390625 0.00390625\n",
      " 0.00390625 0.00390625 0.00390625 0.00390625 0.00390625 0.00390625\n",
      " 0.00390625 0.00390625 0.00390625 0.00390625 0.00390625 0.00390625\n",
      " 0.00390625 0.00390625 0.00390625 0.00390625 0.00390625 0.00390625\n",
      " 0.00390625 0.00390625 0.00390625 0.00390625 0.00390625 0.00390625\n",
      " 0.00390625 0.00390625 0.00390625 0.00390625 0.00390625 0.00390625\n",
      " 0.00390625 0.00390625 0.00390625 0.00390625 0.00390625 0.00390625\n",
      " 0.00390625 0.00390625 0.00390625 0.00390625 0.00390625 0.00390625\n",
      " 0.00390625 0.00390625]\n",
      "msg[0:100] = [ 29 193  96  46 250 145 209 189 154 180 110 239 152 149 125 191   8  73\n",
      " 108  81 238 144 143  85  97  22 218 188  80  18  96  84 158  22 147 247\n",
      "  17  22  68 103   3 209   8 184   6 174  99  50  48 101  69  97   6 109\n",
      " 188 105  36 169 175  15 147 129  59  29   5 242 111  88 191 212  62 134\n",
      " 107  61  28 202 188  71  40 110 153  58  10 235  75 131  74  52 232  50\n",
      " 108 250  90  58 135 145 234 109  33  77]\n",
      "P relative error = [0.00475 0.0045  0.00025 0.00925 0.01275 0.0175  0.0125  0.017   0.016\n",
      " 0.0305  0.0315  0.01225 0.0025  0.003   0.01475 0.01825 0.02325 0.0045\n",
      " 0.01325 0.0165  0.00675 0.0065  0.00725 0.01575 0.02275 0.00525 0.0315\n",
      " 0.0125  0.005   0.01275 0.00725 0.00575 0.01625 0.00075 0.01675 0.01875\n",
      " 0.012   0.0005  0.02475 0.024   0.013   0.01    0.005   0.015   0.015\n",
      " 0.0025  0.00025 0.00125 0.001   0.0055  0.00625 0.018   0.02625 0.0065\n",
      " 0.007   0.0155  0.00525 0.00725 0.00625 0.012   0.019   0.013   0.0195\n",
      " 0.0165  0.00275 0.00275 0.002   0.0135  0.0135  0.011   0.02    0.02225\n",
      " 0.01425 0.01725 0.02175 0.03    0.001   0.0045  0.00625 0.00425 0.0135\n",
      " 0.015   0.006   0.01775 0.00125 0.00275 0.03425 0.013   0.01275 0.\n",
      " 0.006   0.00325 0.0225  0.013   0.022   0.0165  0.0295  0.02075 0.023\n",
      " 0.027   0.02775 0.008   0.02525 0.01125 0.01125 0.00075 0.01475 0.01475\n",
      " 0.015   0.015   0.01925 0.006   0.00425 0.0115  0.018   0.03675 0.01525\n",
      " 0.006   0.00925 0.0245  0.00175 0.001   0.02525 0.0175  0.00325 0.02375\n",
      " 0.00125 0.00275 0.0025  0.03725 0.007   0.00375 0.01225 0.00425 0.008\n",
      " 0.03025 0.001   0.002   0.00725 0.01075 0.01475 0.01625 0.0175  0.00825\n",
      " 0.014   0.00125 0.00375 0.01275 0.01525 0.0115  0.01725 0.0065  0.00325\n",
      " 0.00775 0.00325 0.015   0.012   0.00375 0.0165  0.00925 0.0015  0.0095\n",
      " 0.02175 0.02    0.0125  0.0055  0.0015  0.0055  0.0015  0.00125 0.0155\n",
      " 0.0155  0.00275 0.0075  0.00525 0.00325 0.01325 0.01775 0.00475 0.001\n",
      " 0.0005  0.01    0.0035  0.00525 0.02225 0.005   0.0165  0.02375 0.01775\n",
      " 0.002   0.015   0.00125 0.00425 0.00325 0.00175 0.0115  0.0265  0.004\n",
      " 0.0005  0.005   0.01125 0.0065  0.0095  0.01775 0.02125 0.0085  0.00575\n",
      " 0.0175  0.0145  0.0345  0.00425 0.02975 0.011   0.008   0.01925 0.01425\n",
      " 0.014   0.002   0.0135  0.0015  0.00725 0.003   0.0285  0.00775 0.01475\n",
      " 0.0015  0.0025  0.01625 0.01875 0.001   0.00175 0.00025 0.00225 0.012\n",
      " 0.0235  0.033   0.00625 0.00675 0.0505  0.00075 0.01125 0.00275 0.0165\n",
      " 0.018   0.03625 0.00325 0.02275 0.0035  0.00925 0.005   0.00225 0.00275\n",
      " 0.0235  0.017   0.01575 0.002  ]\n"
     ]
    }
   ],
   "source": [
    "q = 256\n",
    "symbol_prob = np.zeros(256)\n",
    "symbol_prob[:] = 1/q\n",
    "quick_test(symbol_prob)"
   ]
  },
  {
   "cell_type": "markdown",
   "metadata": {},
   "source": [
    "概率分布误差相对比较小，我们再进行一组测试：只有一个符号的概率为1，其余为0。"
   ]
  },
  {
   "cell_type": "code",
   "execution_count": 10,
   "metadata": {
    "tags": []
   },
   "outputs": [
    {
     "name": "stdout",
     "output_type": "stream",
     "text": [
      "symbol_prob[0:50] = [0. 0. 0. 0. 0. 1. 0. 0. 0. 0. 0. 0. 0. 0. 0. 0. 0. 0. 0. 0. 0. 0. 0. 0.\n",
      " 0. 0. 0. 0. 0. 0. 0. 0. 0. 0. 0. 0. 0. 0. 0. 0. 0. 0. 0. 0. 0. 0. 0. 0.\n",
      " 0. 0.]\n",
      "msg[0:100] = [5 5 5 5 5 5 5 5 5 5 5 5 5 5 5 5 5 5 5 5 5 5 5 5 5 5 5 5 5 5 5 5 5 5 5 5 5\n",
      " 5 5 5 5 5 5 5 5 5 5 5 5 5 5 5 5 5 5 5 5 5 5 5 5 5 5 5 5 5 5 5 5 5 5 5 5 5\n",
      " 5 5 5 5 5 5 5 5 5 5 5 5 5 5 5 5 5 5 5 5 5 5 5 5 5 5]\n",
      "P relative error = [nan nan nan nan nan  0. nan nan nan nan nan nan nan nan nan nan nan nan\n",
      " nan nan nan nan nan nan nan nan nan nan nan nan nan nan nan nan nan nan\n",
      " nan nan nan nan nan nan nan nan nan nan nan nan nan nan nan nan nan nan\n",
      " nan nan nan nan nan nan nan nan nan nan nan nan nan nan nan nan nan nan\n",
      " nan nan nan nan nan nan nan nan nan nan nan nan nan nan nan nan nan nan\n",
      " nan nan nan nan nan nan nan nan nan nan nan nan nan nan nan nan nan nan\n",
      " nan nan nan nan nan nan nan nan nan nan nan nan nan nan nan nan nan nan\n",
      " nan nan nan nan nan nan nan nan nan nan nan nan nan nan nan nan nan nan\n",
      " nan nan nan nan nan nan nan nan nan nan nan nan nan nan nan nan nan nan\n",
      " nan nan nan nan nan nan nan nan nan nan nan nan nan nan nan nan nan nan\n",
      " nan nan nan nan nan nan nan nan nan nan nan nan nan nan nan nan nan nan\n",
      " nan nan nan nan nan nan nan nan nan nan nan nan nan nan nan nan nan nan\n",
      " nan nan nan nan nan nan nan nan nan nan nan nan nan nan nan nan nan nan\n",
      " nan nan nan nan nan nan nan nan nan nan nan nan nan nan nan nan nan nan\n",
      " nan nan nan nan]\n"
     ]
    },
    {
     "name": "stderr",
     "output_type": "stream",
     "text": [
      "T:\\Temp/ipykernel_13004/2337140068.py:11: RuntimeWarning: invalid value encountered in true_divide\n",
      "  print(\"P relative error =\", abs(P - symbol_prob)/symbol_prob)\n"
     ]
    }
   ],
   "source": [
    "q = 256\n",
    "symbol_prob = np.zeros(q)\n",
    "symbol_prob[5] = 1\n",
    "quick_test(symbol_prob)"
   ]
  },
  {
   "cell_type": "markdown",
   "metadata": {},
   "source": [
    "结果正常。至此，可以初步认为，算法设计与实现的可信度较高了。"
   ]
  },
  {
   "cell_type": "markdown",
   "metadata": {},
   "source": [
    "## 完整实现\n",
    "\n",
    "为了让程序可以被灵活的使用，我们需要增加以下功能，并封装成可独立于开发环境运行的可执行程序：\n",
    "- 增加I/O功能\n",
    "    - 可以从CSV文件中读入给定的字节概率分布\n",
    "    - 将生成的消息序列写入输出文件\n",
    "- 增加命令行参数解析功能\n",
    "    - 可指定输入概率分布文件\n",
    "    - 可指定输出文件等"
   ]
  },
  {
   "cell_type": "markdown",
   "metadata": {},
   "source": [
    "## 拓展应用\n",
    "\n",
    "在信息论中，我们最经常使用的是二元离散无记忆信源。那么在不改动上述已经完善的程序的前提下，如何利用这个程序生成给定概率分布的二元离散无记忆信源发出的消息？（提示：二元离散无记忆信源的 $N=8$ 次扩展信源是什么信源？）"
   ]
  }
 ],
 "metadata": {
  "kernelspec": {
   "display_name": "Python 3 (ipykernel)",
   "language": "python",
   "name": "python3"
  },
  "language_info": {
   "codemirror_mode": {
    "name": "ipython",
    "version": 3
   },
   "file_extension": ".py",
   "mimetype": "text/x-python",
   "name": "python",
   "nbconvert_exporter": "python",
   "pygments_lexer": "ipython3",
   "version": "3.9.5"
  }
 },
 "nbformat": 4,
 "nbformat_minor": 4
}
